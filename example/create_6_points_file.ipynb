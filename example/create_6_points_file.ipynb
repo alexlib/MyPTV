{
 "cells": [
  {
   "cell_type": "code",
   "execution_count": 3,
   "metadata": {},
   "outputs": [],
   "source": [
    "## Installation requirements:\n",
    "\n",
    "# !conda create -n myptv -y\n",
    "# !conda activate myptv\n",
    "# !pip install git+https://github.com/alexlib/myptv\n",
    "# !pip install ipympl"
   ]
  },
  {
   "cell_type": "code",
   "execution_count": 4,
   "metadata": {},
   "outputs": [],
   "source": [
    "from pylab import * # recommended only for short interactive sessions\n",
    "%matplotlib tk"
   ]
  },
  {
   "cell_type": "code",
   "execution_count": 6,
   "metadata": {},
   "outputs": [
    {
     "ename": "FileNotFoundError",
     "evalue": "./Calibration/target_on_a_side.txt not found.",
     "output_type": "error",
     "traceback": [
      "\u001b[1;31m---------------------------------------------------------------------------\u001b[0m",
      "\u001b[1;31mFileNotFoundError\u001b[0m                         Traceback (most recent call last)",
      "\u001b[1;32mc:\\Users\\alex\\repos\\MyPTV\\example\\create_6_points_file.ipynb Cell 3'\u001b[0m in \u001b[0;36m<cell line: 4>\u001b[1;34m()\u001b[0m\n\u001b[0;32m      <a href='vscode-notebook-cell:/c%3A/Users/alex/repos/MyPTV/example/create_6_points_file.ipynb#ch0000002?line=1'>2</a>\u001b[0m fig \u001b[39m=\u001b[39m figure(figsize\u001b[39m=\u001b[39m(\u001b[39m10\u001b[39m,\u001b[39m10\u001b[39m))\n\u001b[0;32m      <a href='vscode-notebook-cell:/c%3A/Users/alex/repos/MyPTV/example/create_6_points_file.ipynb#ch0000002?line=2'>3</a>\u001b[0m ax \u001b[39m=\u001b[39m axes(projection\u001b[39m=\u001b[39m\u001b[39m'\u001b[39m\u001b[39m3d\u001b[39m\u001b[39m'\u001b[39m)\n\u001b[1;32m----> <a href='vscode-notebook-cell:/c%3A/Users/alex/repos/MyPTV/example/create_6_points_file.ipynb#ch0000002?line=3'>4</a>\u001b[0m targets \u001b[39m=\u001b[39m loadtxt(\u001b[39m'\u001b[39;49m\u001b[39m./Calibration/target_on_a_side.txt\u001b[39;49m\u001b[39m'\u001b[39;49m)\n\u001b[0;32m      <a href='vscode-notebook-cell:/c%3A/Users/alex/repos/MyPTV/example/create_6_points_file.ipynb#ch0000002?line=4'>5</a>\u001b[0m ax\u001b[39m.\u001b[39mplot(targets[:,\u001b[39m1\u001b[39m], targets[:,\u001b[39m3\u001b[39m], targets[:,\u001b[39m2\u001b[39m], \u001b[39m'\u001b[39m\u001b[39mro\u001b[39m\u001b[39m'\u001b[39m)\n\u001b[0;32m      <a href='vscode-notebook-cell:/c%3A/Users/alex/repos/MyPTV/example/create_6_points_file.ipynb#ch0000002?line=5'>6</a>\u001b[0m \u001b[39mfor\u001b[39;00m row \u001b[39min\u001b[39;00m targets:\n",
      "File \u001b[1;32m~\\miniconda3\\envs\\myptv_pip\\lib\\site-packages\\numpy\\lib\\npyio.py:1042\u001b[0m, in \u001b[0;36mloadtxt\u001b[1;34m(fname, dtype, comments, delimiter, converters, skiprows, usecols, unpack, ndmin, encoding, max_rows, like)\u001b[0m\n\u001b[0;32m   <a href='file:///c%3A/Users/alex/miniconda3/envs/myptv_pip/lib/site-packages/numpy/lib/npyio.py?line=1039'>1040</a>\u001b[0m     fname \u001b[39m=\u001b[39m os_fspath(fname)\n\u001b[0;32m   <a href='file:///c%3A/Users/alex/miniconda3/envs/myptv_pip/lib/site-packages/numpy/lib/npyio.py?line=1040'>1041</a>\u001b[0m \u001b[39mif\u001b[39;00m _is_string_like(fname):\n\u001b[1;32m-> <a href='file:///c%3A/Users/alex/miniconda3/envs/myptv_pip/lib/site-packages/numpy/lib/npyio.py?line=1041'>1042</a>\u001b[0m     fh \u001b[39m=\u001b[39m np\u001b[39m.\u001b[39;49mlib\u001b[39m.\u001b[39;49m_datasource\u001b[39m.\u001b[39;49mopen(fname, \u001b[39m'\u001b[39;49m\u001b[39mrt\u001b[39;49m\u001b[39m'\u001b[39;49m, encoding\u001b[39m=\u001b[39;49mencoding)\n\u001b[0;32m   <a href='file:///c%3A/Users/alex/miniconda3/envs/myptv_pip/lib/site-packages/numpy/lib/npyio.py?line=1042'>1043</a>\u001b[0m     fencoding \u001b[39m=\u001b[39m \u001b[39mgetattr\u001b[39m(fh, \u001b[39m'\u001b[39m\u001b[39mencoding\u001b[39m\u001b[39m'\u001b[39m, \u001b[39m'\u001b[39m\u001b[39mlatin1\u001b[39m\u001b[39m'\u001b[39m)\n\u001b[0;32m   <a href='file:///c%3A/Users/alex/miniconda3/envs/myptv_pip/lib/site-packages/numpy/lib/npyio.py?line=1043'>1044</a>\u001b[0m     line_iter \u001b[39m=\u001b[39m \u001b[39miter\u001b[39m(fh)\n",
      "File \u001b[1;32m~\\miniconda3\\envs\\myptv_pip\\lib\\site-packages\\numpy\\lib\\_datasource.py:193\u001b[0m, in \u001b[0;36mopen\u001b[1;34m(path, mode, destpath, encoding, newline)\u001b[0m\n\u001b[0;32m    <a href='file:///c%3A/Users/alex/miniconda3/envs/myptv_pip/lib/site-packages/numpy/lib/_datasource.py?line=155'>156</a>\u001b[0m \u001b[39m\"\"\"\u001b[39;00m\n\u001b[0;32m    <a href='file:///c%3A/Users/alex/miniconda3/envs/myptv_pip/lib/site-packages/numpy/lib/_datasource.py?line=156'>157</a>\u001b[0m \u001b[39mOpen `path` with `mode` and return the file object.\u001b[39;00m\n\u001b[0;32m    <a href='file:///c%3A/Users/alex/miniconda3/envs/myptv_pip/lib/site-packages/numpy/lib/_datasource.py?line=157'>158</a>\u001b[0m \n\u001b[1;32m   (...)\u001b[0m\n\u001b[0;32m    <a href='file:///c%3A/Users/alex/miniconda3/envs/myptv_pip/lib/site-packages/numpy/lib/_datasource.py?line=188'>189</a>\u001b[0m \n\u001b[0;32m    <a href='file:///c%3A/Users/alex/miniconda3/envs/myptv_pip/lib/site-packages/numpy/lib/_datasource.py?line=189'>190</a>\u001b[0m \u001b[39m\"\"\"\u001b[39;00m\n\u001b[0;32m    <a href='file:///c%3A/Users/alex/miniconda3/envs/myptv_pip/lib/site-packages/numpy/lib/_datasource.py?line=191'>192</a>\u001b[0m ds \u001b[39m=\u001b[39m DataSource(destpath)\n\u001b[1;32m--> <a href='file:///c%3A/Users/alex/miniconda3/envs/myptv_pip/lib/site-packages/numpy/lib/_datasource.py?line=192'>193</a>\u001b[0m \u001b[39mreturn\u001b[39;00m ds\u001b[39m.\u001b[39;49mopen(path, mode, encoding\u001b[39m=\u001b[39;49mencoding, newline\u001b[39m=\u001b[39;49mnewline)\n",
      "File \u001b[1;32m~\\miniconda3\\envs\\myptv_pip\\lib\\site-packages\\numpy\\lib\\_datasource.py:532\u001b[0m, in \u001b[0;36mDataSource.open\u001b[1;34m(self, path, mode, encoding, newline)\u001b[0m\n\u001b[0;32m    <a href='file:///c%3A/Users/alex/miniconda3/envs/myptv_pip/lib/site-packages/numpy/lib/_datasource.py?line=528'>529</a>\u001b[0m     \u001b[39mreturn\u001b[39;00m _file_openers[ext](found, mode\u001b[39m=\u001b[39mmode,\n\u001b[0;32m    <a href='file:///c%3A/Users/alex/miniconda3/envs/myptv_pip/lib/site-packages/numpy/lib/_datasource.py?line=529'>530</a>\u001b[0m                               encoding\u001b[39m=\u001b[39mencoding, newline\u001b[39m=\u001b[39mnewline)\n\u001b[0;32m    <a href='file:///c%3A/Users/alex/miniconda3/envs/myptv_pip/lib/site-packages/numpy/lib/_datasource.py?line=530'>531</a>\u001b[0m \u001b[39melse\u001b[39;00m:\n\u001b[1;32m--> <a href='file:///c%3A/Users/alex/miniconda3/envs/myptv_pip/lib/site-packages/numpy/lib/_datasource.py?line=531'>532</a>\u001b[0m     \u001b[39mraise\u001b[39;00m \u001b[39mFileNotFoundError\u001b[39;00m(\u001b[39mf\u001b[39m\u001b[39m\"\u001b[39m\u001b[39m{\u001b[39;00mpath\u001b[39m}\u001b[39;00m\u001b[39m not found.\u001b[39m\u001b[39m\"\u001b[39m)\n",
      "\u001b[1;31mFileNotFoundError\u001b[0m: ./Calibration/target_on_a_side.txt not found."
     ]
    }
   ],
   "source": [
    "# plot the target file in 3D\n",
    "fig = figure(figsize=(10,10))\n",
    "ax = axes(projection='3d')\n",
    "targets = loadtxt('./Calibration/target_on_a_side.txt')\n",
    "ax.plot(targets[:,1], targets[:,3], targets[:,2], 'ro')\n",
    "for row in targets:\n",
    "    ax.text(row[1], row[3], row[2],str(int(row[0])) );"
   ]
  },
  {
   "cell_type": "code",
   "execution_count": 41,
   "metadata": {},
   "outputs": [],
   "source": [
    "# looking at the both plots, decide which points you want to pick\n",
    "# type here the order of the points you want to click \n",
    "\n",
    "points = [5,73,3,72,38,4]"
   ]
  },
  {
   "cell_type": "code",
   "execution_count": 56,
   "metadata": {},
   "outputs": [
    {
     "name": "stdout",
     "output_type": "stream",
     "text": [
      "single click: button=1, x=720, y=585, xdata=982.209677, ydata=332.605548\n",
      "single click: button=1, x=264, y=582, xdata=229.074194, ydata=337.560387\n",
      "single click: button=1, x=736, y=421, xdata=1008.635484, ydata=603.470065\n",
      "single click: button=1, x=274, y=414, xdata=245.590323, ydata=615.031355\n",
      "single click: button=1, x=507, y=417, xdata=630.416129, ydata=610.076516\n",
      "single click: button=1, x=696, y=520, xdata=942.570968, ydata=439.960387\n"
     ]
    }
   ],
   "source": [
    "fig,ax = subplots(figsize=(10,10))\n",
    "ax.imshow(imread('cal/cam1.tif'))\n",
    "# note that on cam1 we do not see the bottom rows\n",
    "# text = axcounter = 0.text(0, 0, \" Click \", va=\"bottom\", ha=\"left\")\n",
    "clicks = []\n",
    "\n",
    "def onclick(event):\n",
    "    counter = 0\n",
    "    # tx = 'button=%d, x=%d, y=%d, xdata=%f, ydata=%f' % (event.button, event.x, event.y, event.xdata, event.ydata)\n",
    "    # text.set_text(tx)\n",
    "    print('%s click: button=%d, x=%d, y=%d, xdata=%f, ydata=%f' %\n",
    "          ('double' if event.dblclick else 'single', event.button,\n",
    "           event.x, event.y, event.xdata, event.ydata))\n",
    "    ax.text(event.x, event.y, str(points[counter]),bbox=dict(fill=False, edgecolor='red', linewidth=2))\n",
    "    clicks.append([event.xdata, event.ydata, *targets[points[counter]-1,1:]])\n",
    "    counter += 1\n",
    "    # ax.text(event.x, event.y, )\n",
    "    \n",
    "\n",
    "cid = fig.canvas.mpl_connect('button_press_event', onclick)\n"
   ]
  },
  {
   "cell_type": "code",
   "execution_count": 57,
   "metadata": {},
   "outputs": [],
   "source": [
    "\n",
    "savetxt('tmp.txt',array(clicks))\n"
   ]
  },
  {
   "cell_type": "code",
   "execution_count": 2,
   "metadata": {},
   "outputs": [
    {
     "ename": "NameError",
     "evalue": "name 'records' is not defined",
     "output_type": "error",
     "traceback": [
      "\u001b[1;31m---------------------------------------------------------------------------\u001b[0m",
      "\u001b[1;31mNameError\u001b[0m                                 Traceback (most recent call last)",
      "\u001b[1;32mc:\\Users\\alex\\repos\\MyPTV\\example\\create_6_points_file.ipynb Cell 7'\u001b[0m in \u001b[0;36m<cell line: 7>\u001b[1;34m()\u001b[0m\n\u001b[0;32m      <a href='vscode-notebook-cell:/c%3A/Users/alex/repos/MyPTV/example/create_6_points_file.ipynb#ch0000006?line=4'>5</a>\u001b[0m ax\u001b[39m.\u001b[39mset_xlim(\u001b[39m20\u001b[39m, \u001b[39m35\u001b[39m)\n\u001b[0;32m      <a href='vscode-notebook-cell:/c%3A/Users/alex/repos/MyPTV/example/create_6_points_file.ipynb#ch0000006?line=5'>6</a>\u001b[0m ax\u001b[39m.\u001b[39mset_ylim(\u001b[39m60\u001b[39m, \u001b[39m120\u001b[39m)\n\u001b[1;32m----> <a href='vscode-notebook-cell:/c%3A/Users/alex/repos/MyPTV/example/create_6_points_file.ipynb#ch0000006?line=6'>7</a>\u001b[0m \u001b[39mfor\u001b[39;00m i, record \u001b[39min\u001b[39;00m records\u001b[39m.\u001b[39miterrows():\n\u001b[0;32m      <a href='vscode-notebook-cell:/c%3A/Users/alex/repos/MyPTV/example/create_6_points_file.ipynb#ch0000006?line=7'>8</a>\u001b[0m     image \u001b[39m=\u001b[39m plt\u001b[39m.\u001b[39mimread(\u001b[39m'\u001b[39m\u001b[39mimage/\u001b[39m\u001b[39m'\u001b[39m \u001b[39m+\u001b[39m record\u001b[39m.\u001b[39mTeam \u001b[39m+\u001b[39m \u001b[39m'\u001b[39m\u001b[39m.png\u001b[39m\u001b[39m'\u001b[39m) \n\u001b[0;32m      <a href='vscode-notebook-cell:/c%3A/Users/alex/repos/MyPTV/example/create_6_points_file.ipynb#ch0000006?line=8'>9</a>\u001b[0m     ax\u001b[39m.\u001b[39madd_artist( \u001b[39m#ax can be added image as artist.\u001b[39;00m\n\u001b[0;32m     <a href='vscode-notebook-cell:/c%3A/Users/alex/repos/MyPTV/example/create_6_points_file.ipynb#ch0000006?line=9'>10</a>\u001b[0m         AnnotationBbox(\n\u001b[0;32m     <a href='vscode-notebook-cell:/c%3A/Users/alex/repos/MyPTV/example/create_6_points_file.ipynb#ch0000006?line=10'>11</a>\u001b[0m             OffsetImage(image)\n\u001b[1;32m   (...)\u001b[0m\n\u001b[0;32m     <a href='vscode-notebook-cell:/c%3A/Users/alex/repos/MyPTV/example/create_6_points_file.ipynb#ch0000006?line=13'>14</a>\u001b[0m         ) \n\u001b[0;32m     <a href='vscode-notebook-cell:/c%3A/Users/alex/repos/MyPTV/example/create_6_points_file.ipynb#ch0000006?line=14'>15</a>\u001b[0m     )\n",
      "\u001b[1;31mNameError\u001b[0m: name 'records' is not defined"
     ]
    },
    {
     "data": {
      "image/png": "[encoded data removed]",
      "text/plain": [
       "<Figure size 1080x1080 with 1 Axes>"
      ]
     },
     "metadata": {
      "needs_background": "light"
     },
     "output_type": "display_data"
    }
   ],
   "source": [
    "import matplotlib.pyplot as plt\n",
    "import matplotlib.text as mpl_text\n",
    "fig = plt.figure(figsize=(15,15))\n",
    "ax=fig.add_subplot(1,1,1)\n",
    "ax.set_xlim(20, 35)\n",
    "ax.set_ylim(60, 120)\n",
    "for i, record in records.iterrows():\n",
    "    image = plt.imread('image/' + record.Team + '.png') \n",
    "    ax.add_artist( #ax can be added image as artist.\n",
    "        AnnotationBbox(\n",
    "            OffsetImage(image)\n",
    "            , (record.Age, record.Win)\n",
    "            , frameon=False\n",
    "        ) \n",
    "    )\n",
    "    ax.add_artist(\n",
    "        mpl_text.Text(\n",
    "            x=record.Age\n",
    "            ,y=record.Win\n",
    "            ,text=record.Team\n",
    "            ,color='black'\n",
    "            ,backgroundcolor='grey'\n",
    "            ,verticalalignment='center'\n",
    "            ,horizontalalignment='center'\n",
    "            ,multialignment=None\n",
    "            ,fontsize=40\n",
    "            ,linespacing=None\n",
    "            ,rotation_mode=None\n",
    "        )\n",
    "    )\n",
    "plt.title('NL West Age/Win Correlation')\n",
    "plt.show()"
   ]
  }
 ],
 "metadata": {
  "interpreter": {
   "hash": "fbc45e318997727c983b0f99c79f6104b0e8c67be24f9c29083ccdf8ef91b86e"
  },
  "kernelspec": {
   "display_name": "Python 3.9.12 ('myptv')",
   "language": "python",
   "name": "python3"
  },
  "language_info": {
   "codemirror_mode": {
    "name": "ipython",
    "version": 3
   },
   "file_extension": ".py",
   "mimetype": "text/x-python",
   "name": "python",
   "nbconvert_exporter": "python",
   "pygments_lexer": "ipython3",
   "version": "3.9.12"
  },
  "orig_nbformat": 4
 },
 "nbformat": 4,
 "nbformat_minor": 2
}
